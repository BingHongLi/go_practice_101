{
 "cells": [
  {
   "cell_type": "code",
   "execution_count": null,
   "metadata": {},
   "outputs": [],
   "source": [
    "/*\n",
    "\n",
    "變數宣告的語法範例\n",
    "\n",
    "\n",
    "mutable variable\n",
    "\n",
    "immutable variable\n",
    "\n",
    "function\n",
    "\n",
    "*/"
   ]
  },
  {
   "cell_type": "code",
   "execution_count": null,
   "metadata": {},
   "outputs": [],
   "source": [
    "/*\n",
    "引用套件，fmt系統套件，稍後用來將結果打印結果在屏幕上\n",
    "*/\n",
    "import (\n",
    "\t\"fmt\"\n",
    ")"
   ]
  },
  {
   "cell_type": "code",
   "execution_count": null,
   "metadata": {},
   "outputs": [],
   "source": [
    "//mutable variabler declare\n",
    "shorthandVarable  := 123\n",
    "fmt.Println(shorthandVarable)"
   ]
  },
  {
   "cell_type": "code",
   "execution_count": null,
   "metadata": {},
   "outputs": [],
   "source": [
    "/*\n",
    "顯性宣告型別\n",
    "\n",
    "var 變數名 變數型別 = 內容\n",
    "\n",
    "*/\n",
    "var explicitDeclareTypeInt string = \"i am string.\"\n",
    "fmt.Println(explicitDeclareTypeInt)"
   ]
  },
  {
   "cell_type": "code",
   "execution_count": null,
   "metadata": {},
   "outputs": [],
   "source": [
    "// 一次宣告多個變數\n",
    "iAmBoolean, iAmString, iAmInt := false, \"demo\", 123\n",
    "fmt.Printf(\"this is boolean %t , this is string %s , this is int %d \\n\",iAmBoolean,iAmString,iAmInt)"
   ]
  },
  {
   "cell_type": "code",
   "execution_count": null,
   "metadata": {},
   "outputs": [],
   "source": [
    "/*\n",
    "宣告常數變數\n",
    "\n",
    "const 變數名 變數型別 = 內容\n",
    "\n",
    "*/\n",
    "\n",
    "const myStringHello string = \"Hello, 世界\"\n",
    "//myStringHello = \"\"  // will be error\n",
    "fmt.Println(myStringHello)"
   ]
  },
  {
   "cell_type": "code",
   "execution_count": null,
   "metadata": {},
   "outputs": [],
   "source": [
    "/*\n",
    "\n",
    "func 函數名(參數名 參數型別, 參數名 參數型別) 回傳內容型別 { 方法體 }\n",
    "\n",
    "*/\n",
    "func demoAdd(x int, y int) int {\n",
    "\treturn x + y\n",
    "}"
   ]
  },
  {
   "cell_type": "code",
   "execution_count": null,
   "metadata": {},
   "outputs": [],
   "source": [
    "// 宣告一個demoAdd function並呼叫\n",
    "fmt.Println(demoAdd(13,42))"
   ]
  }
 ],
 "metadata": {
  "kernelspec": {
   "display_name": "Go (lgo)",
   "language": "go",
   "name": "lgo"
  },
  "language_info": {
   "file_extension": "",
   "mimetype": "",
   "name": "go",
   "version": ""
  }
 },
 "nbformat": 4,
 "nbformat_minor": 2
}
