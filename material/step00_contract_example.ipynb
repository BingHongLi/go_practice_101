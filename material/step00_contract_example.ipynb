{
 "cells": [
  {
   "cell_type": "code",
   "execution_count": null,
   "metadata": {},
   "outputs": [],
   "source": [
    "/*\n",
    "\n",
    "Overview\n",
    "\n",
    "    在人類文明中，資產的調度，需要透過合約。\n",
    "    \n",
    "    而合約的撰寫，是有Pattern的，在此，我們透過Golang來進行一個點數交易合約的數字化實踐，以利未來撰寫智能合約。\n",
    "    \n",
    "    點數卡\n",
    "\n",
    "*/"
   ]
  },
  {
   "cell_type": "code",
   "execution_count": null,
   "metadata": {},
   "outputs": [],
   "source": [
    "/*\n",
    "\n",
    "大綱\n",
    "\n",
    "引用套件\n",
    "資產定義\n",
    "定義資產的操作辦法\n",
    "調用範例\n",
    "\n",
    "*/"
   ]
  },
  {
   "cell_type": "code",
   "execution_count": null,
   "metadata": {},
   "outputs": [],
   "source": [
    "/*\n",
    "\n",
    "引用套件\n",
    "\n",
    "*/"
   ]
  },
  {
   "cell_type": "code",
   "execution_count": null,
   "metadata": {},
   "outputs": [],
   "source": [
    "// 稍後為了將結果印出，引入fmt套件\n",
    "import (\n",
    "    \"fmt\"\n",
    "    \"errors\"\n",
    ")"
   ]
  },
  {
   "cell_type": "code",
   "execution_count": null,
   "metadata": {},
   "outputs": [],
   "source": [
    "/*\n",
    "\n",
    "資產定義\n",
    "\n",
    "*/"
   ]
  },
  {
   "cell_type": "code",
   "execution_count": null,
   "metadata": {},
   "outputs": [],
   "source": [
    "type ScorePoint struct {\n",
    "    point int\n",
    "    holder string\n",
    "}\n",
    "\n",
    "\n",
    "/*\n",
    "\n",
    "定義資產的操作辦法\n",
    "    展示 if else\n",
    "    展示 switch\n",
    "    展示 error handling\n",
    "    \n",
    "*/\n",
    "\n",
    "\n",
    "// 取得點數持有人\n",
    "func (sp *ScorePoint) getHolder() (string,error) {\n",
    "\n",
    "    if sp.holder == \"\" {\n",
    "        return \"\", errors.New(\"\")\n",
    "    }\n",
    "    \n",
    "    return sp.holder , nil \n",
    "    \n",
    "    \n",
    "}\n",
    "\n",
    "// 設定點數持有人\n",
    "func (sp *ScorePoint) setHolder(holderName string) error {\n",
    "\n",
    "    if sp.holder != \"\" {\n",
    "        return errors.New(\"此點數卡已有人持有\")\n",
    "    }else{\n",
    "        sp.holder = holderName\n",
    "        return nil\n",
    "    }\n",
    "    \n",
    "}\n",
    "\n",
    "// 點數查詢\n",
    "func (sp *ScorePoint) queryPoint() string {\n",
    "    point := sp.point\n",
    "    switch point {\n",
    "        case 100 :\n",
    "            return \"很多點數\"\n",
    "        case  50 :\n",
    "            return \"普通\"\n",
    "        default :\n",
    "            return \"異常\"        \n",
    "    }    \n",
    "}"
   ]
  },
  {
   "cell_type": "code",
   "execution_count": null,
   "metadata": {},
   "outputs": [],
   "source": [
    "// 追加點數"
   ]
  },
  {
   "cell_type": "code",
   "execution_count": null,
   "metadata": {},
   "outputs": [],
   "source": [
    "// 減少點數"
   ]
  },
  {
   "cell_type": "code",
   "execution_count": null,
   "metadata": {},
   "outputs": [],
   "source": [
    "/*\n",
    "\n",
    "調用的範例\n",
    "\n",
    "新建點卡\n",
    "取得點卡持有人\n",
    "設定點卡持有人\n",
    "取得點卡持有人\n",
    "點數查詢{}\n",
    "\n",
    "*/\n",
    "\n"
   ]
  },
  {
   "cell_type": "code",
   "execution_count": null,
   "metadata": {},
   "outputs": [],
   "source": [
    "// 新建點卡\n",
    "\n",
    "var scorePoint1 ScorePoint = ScorePoint{point:50}\n",
    "\n",
    "scorePoint2 := ScorePoint{point:300}"
   ]
  },
  {
   "cell_type": "code",
   "execution_count": null,
   "metadata": {},
   "outputs": [],
   "source": [
    "// 取得點卡持有人\n",
    "holderName,err := scorePoint1.getHolder()\n",
    "\n",
    "if (err != nil) {\n",
    "    fmt.Println(err)\n",
    "}else {\n",
    "    fmt.Println(holderName)\n",
    "}"
   ]
  },
  {
   "cell_type": "code",
   "execution_count": null,
   "metadata": {},
   "outputs": [],
   "source": [
    "// 設定點卡持有人\n",
    "scorePoint1.setHolder(\"BingHongLi\")"
   ]
  },
  {
   "cell_type": "code",
   "execution_count": null,
   "metadata": {},
   "outputs": [],
   "source": [
    "// 取得點卡持有人\n",
    "holderName, err:= scorePoint1.getHolder()\n",
    "\n",
    "if (err != nil) {\n",
    "    fmt.Println(err)\n",
    "}else {\n",
    "    fmt.Println(holderName)\n",
    "}"
   ]
  },
  {
   "cell_type": "code",
   "execution_count": null,
   "metadata": {},
   "outputs": [],
   "source": [
    "// 點數查詢\n",
    "fmt.Println(scorePoint1.queryPoint())"
   ]
  }
 ],
 "metadata": {
  "kernelspec": {
   "display_name": "Go (lgo)",
   "language": "go",
   "name": "lgo"
  },
  "language_info": {
   "file_extension": "",
   "mimetype": "",
   "name": "go",
   "version": ""
  }
 },
 "nbformat": 4,
 "nbformat_minor": 2
}
