{
 "cells": [
  {
   "cell_type": "code",
   "execution_count": null,
   "metadata": {},
   "outputs": [],
   "source": [
    "/*\n",
    "\n",
    "controll flow demo\n",
    "\n",
    "引入套件\n",
    "if...elseif...else\n",
    "\n",
    "*/"
   ]
  },
  {
   "cell_type": "code",
   "execution_count": null,
   "metadata": {},
   "outputs": [],
   "source": [
    "// 引用套件\n",
    "import (\n",
    "\t\"fmt\"\n",
    "\t\"os\"\n",
    "\t\"io\"\n",
    ")"
   ]
  },
  {
   "cell_type": "code",
   "execution_count": null,
   "metadata": {},
   "outputs": [],
   "source": [
    "/*\n",
    "\n",
    "if 條件 {方法體}\n",
    "else if 條件 {方法體}\n",
    "else {方法體}\n",
    "    \n",
    "*/\n",
    "\n",
    "num := 10\n",
    "if  num < 0 {\n",
    "    fmt.Println(num, \"is negative\")\n",
    "} else if num < 10 {\n",
    "    fmt.Println(num, \"has 1 digit\")\n",
    "} else {\n",
    "    fmt.Println(num, \"has multiple digits\")\n",
    "}"
   ]
  },
  {
   "cell_type": "code",
   "execution_count": null,
   "metadata": {},
   "outputs": [],
   "source": [
    "/*\n",
    "switch demo\n",
    "\n",
    "switch 變數名 {\n",
    "\n",
    "    case 變數內容1：\n",
    "            方法體\n",
    "    case 變數內容2:\n",
    "            方法體\n",
    "    case 變數內容3:\n",
    "            方法體\n",
    "    default:\n",
    "            未被列舉的變數內容，都執行此方法體\n",
    "            \n",
    "}\n",
    "\n",
    "*/\n",
    "switchString := \"linux\"\n",
    "switch switchString {\n",
    "case \"darwin\":\n",
    "    fmt.Println(\"OS X.\")\n",
    "case \"linux\":\n",
    "    fmt.Println(\"Linux.\")\n",
    "default:\n",
    "    // freebsd, openbsd,\n",
    "    // plan9, windows...\n",
    "    fmt.Printf(\"%s.\", switchString)\n",
    "}"
   ]
  },
  {
   "cell_type": "code",
   "execution_count": null,
   "metadata": {},
   "outputs": [],
   "source": [
    "/*\n",
    "\n",
    "for loop demo\n",
    "\n",
    "for 起始值; 終止條件; 計次規則 {\n",
    "    方法體\n",
    "}\n",
    "\n",
    "*/\n",
    "sum := 0\n",
    "for i := 0; i < 10; i++ {\n",
    "    sum += i\n",
    "}\n",
    "fmt.Println(sum)"
   ]
  },
  {
   "cell_type": "code",
   "execution_count": null,
   "metadata": {},
   "outputs": [],
   "source": [
    "/*\n",
    "\tdefer demo\n",
    "\t一般應用場景，用在把資源關閉的時候。\n",
    "*/\n",
    "func CopyFile(dstName, srcName string) (written int64, err error) {\n",
    "\t/*\n",
    "\t\t開啟檔案，CopyFile執行完成後，會執行src.Close() 與 dst.Close()\n",
    "\t*/\n",
    "\tsrc, err := os.Open(srcName)\n",
    "\tif err != nil {\n",
    "\t\treturn\n",
    "\t}\n",
    "\tdefer src.Close()\n",
    "\n",
    "\tdst, err := os.Create(dstName)\n",
    "\tif err != nil {\n",
    "\t\treturn\n",
    "\t}\n",
    "\tdefer dst.Close()\n",
    "\n",
    "\treturn io.Copy(dst, src)\n",
    "}"
   ]
  }
 ],
 "metadata": {
  "kernelspec": {
   "display_name": "Go (lgo)",
   "language": "go",
   "name": "lgo"
  },
  "language_info": {
   "file_extension": "",
   "mimetype": "",
   "name": "go",
   "version": ""
  }
 },
 "nbformat": 4,
 "nbformat_minor": 2
}
