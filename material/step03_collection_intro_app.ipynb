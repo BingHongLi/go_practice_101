{
 "cells": [
  {
   "cell_type": "code",
   "execution_count": null,
   "metadata": {},
   "outputs": [],
   "source": [
    "/*\n",
    "\n",
    "集合操作\n",
    "    slice \n",
    "        指定範圍內的元素\n",
    "    map\n",
    "        新建\n",
    "        插入鍵值\n",
    "        讀取鍵值\n",
    "        刪除鍵值\n",
    "\n",
    "*/"
   ]
  },
  {
   "cell_type": "code",
   "execution_count": null,
   "metadata": {},
   "outputs": [],
   "source": [
    "import \"fmt\""
   ]
  },
  {
   "cell_type": "code",
   "execution_count": null,
   "metadata": {},
   "outputs": [],
   "source": [
    "/*\n",
    "    slice 不定長度的array\n",
    "*/\n",
    "primes := [6]int{2, 3, 5, 7, 11, 13}\n",
    "var s []int = primes[1:4]\n",
    "fmt.Println(s)"
   ]
  },
  {
   "cell_type": "code",
   "execution_count": null,
   "metadata": {},
   "outputs": [],
   "source": [
    "/*\n",
    "    map demo\n",
    "*/\n",
    "mapDemo := map[string]int{}\n",
    "// set a pair\n",
    "mapDemo[\"key1\"] = 999\n",
    "mapDemo[\"key2\"] = 888\n",
    "mapDemo[\"key3\"] = 777\n",
    "// get a pair\n",
    "fmt.Println(mapDemo[\"key1\"])\n",
    "// delete a pair\n",
    "delete(mapDemo, \"key1\")\n",
    "// list all pair in map\n",
    "fmt.Println(mapDemo)"
   ]
  }
 ],
 "metadata": {
  "kernelspec": {
   "display_name": "Go (lgo)",
   "language": "go",
   "name": "lgo"
  },
  "language_info": {
   "file_extension": "",
   "mimetype": "",
   "name": "go",
   "version": ""
  }
 },
 "nbformat": 4,
 "nbformat_minor": 2
}
