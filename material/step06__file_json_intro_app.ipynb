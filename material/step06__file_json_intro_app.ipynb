{
 "cells": [
  {
   "cell_type": "code",
   "execution_count": null,
   "metadata": {},
   "outputs": [],
   "source": [
    "/*\n",
    "\n",
    "檔案處理與json解析處理\n",
    "\n",
    "展示檔案創建與檔案寫入\n",
    "\n",
    "展示 json的查詢操作 與 ORM\n",
    "\n",
    "*/"
   ]
  },
  {
   "cell_type": "code",
   "execution_count": 3,
   "metadata": {},
   "outputs": [],
   "source": [
    "/*\n",
    "\n",
    "引用套件，這次有引用非官方的第三方套件\n",
    "\n",
    "須先進行\n",
    "go get github.com/bitly/go-simplejson\n",
    "\n",
    "而後再執行此區塊\n",
    "\n",
    "*/\n",
    "import (\n",
    "\t\"io/ioutil\"\n",
    "\t\"fmt\"\n",
    "\t\"log\"\n",
    "\t\"os\"\n",
    "\t\"github.com/bitly/go-simplejson\"\n",
    "\t\"encoding/json\"\n",
    ")"
   ]
  },
  {
   "cell_type": "code",
   "execution_count": 4,
   "metadata": {},
   "outputs": [],
   "source": [
    "/*\n",
    "\n",
    "創造一個demo.json檔案\n",
    "\n",
    "若創造失敗，則印出 can not create file.\n",
    "\n",
    "若創造成功，則將json字串寫入檔案中\n",
    "\n",
    "*/"
   ]
  },
  {
   "cell_type": "code",
   "execution_count": null,
   "metadata": {},
   "outputs": [],
   "source": [
    "// 創造檔案\n",
    "jsonFile, createErr := os.Create(\"demo.json\")\n",
    "\n",
    "// 偵測檔案是否創建成功，若成功則將json字串寫入\n",
    "if(createErr != nil ){\n",
    "    log.Println(\"can not create file.\")\n",
    "}else{\n",
    "    jsonFile.WriteString(`{\n",
    "    \"test\": {\n",
    "        \"string_array\": [\"asdf\", \"ghjk\", \"zxcv\"],\n",
    "        \"array\": [1, \"2\", 3],\n",
    "        \"arraywithsubs\": [{\"subkeyone\": 1},\n",
    "        {\"subkeytwo\": 2, \"subkeythree\": 3}],\n",
    "        \"int\": 10,\n",
    "        \"float\": 5.150,\n",
    "        \"bignum\": 9223372036854775807,\n",
    "        \"string\": \"simplejson\",\n",
    "        \"bool\": true\n",
    "        }\n",
    "    }`)\n",
    "}"
   ]
  },
  {
   "cell_type": "code",
   "execution_count": null,
   "metadata": {},
   "outputs": [],
   "source": [
    "// 讀檔\n",
    "fileData,readErr := ioutil.ReadFile(\"demo.json\")\n",
    "\n",
    "if(readErr !=nil){\n",
    "    log.Println(\"can not read file or file doesn't exists\")\n",
    "}else{\n",
    "    fmt.Println(string(fileData))\n",
    "}\n"
   ]
  },
  {
   "cell_type": "code",
   "execution_count": null,
   "metadata": {},
   "outputs": [],
   "source": [
    "/*\n",
    "\n",
    "    引用simplejson，進行json處理\n",
    "    在import內加入\n",
    "    \"github.com/bitly/go-simplejson\"\n",
    "    在終端命令列內，使用dep ensure\n",
    "\n",
    "*/\n"
   ]
  },
  {
   "cell_type": "code",
   "execution_count": null,
   "metadata": {},
   "outputs": [],
   "source": [
    "// 讀取檔案轉成可操作的json\n",
    "demoJsonFromFile,_ := simplejson.NewJson(fileData)"
   ]
  },
  {
   "cell_type": "code",
   "execution_count": null,
   "metadata": {},
   "outputs": [],
   "source": [
    "// 取得欄位為字串的內容\n",
    "demoString,_ := demoJsonFromFile.Get(\"test\").Get(\"string\").String()\n",
    "fmt.Println(demoString)"
   ]
  },
  {
   "cell_type": "code",
   "execution_count": null,
   "metadata": {},
   "outputs": [],
   "source": [
    "// 創造一個Struct，稍後準備用來做ORM\n",
    "type DemoORM struct {\n",
    "    String_array []string\n",
    "    Bool bool\n",
    "    String string\n",
    "    Int int\n",
    "}"
   ]
  },
  {
   "cell_type": "code",
   "execution_count": null,
   "metadata": {},
   "outputs": [],
   "source": [
    "// 生成空實例\n",
    "var demoOrm DemoORM\n",
    "// 取得要轉換的byte\n",
    "demoJsonByte,_ := demoJsonFromFile.Get(\"test\").EncodePretty()"
   ]
  },
  {
   "cell_type": "code",
   "execution_count": null,
   "metadata": {},
   "outputs": [],
   "source": [
    "// 進行轉換，並把內容放回空實例中\n",
    "json.Unmarshal(demoJsonByte,&demoOrm)\n",
    "fmt.Println(demoOrm)"
   ]
  },
  {
   "cell_type": "code",
   "execution_count": null,
   "metadata": {},
   "outputs": [],
   "source": [
    "// 將 instance 轉成 json\n",
    "ormToJson, _ :=json.Marshal(demoOrm)\n",
    "fmt.Println(string(ormToJson))"
   ]
  }
 ],
 "metadata": {
  "kernelspec": {
   "display_name": "Go (lgo)",
   "language": "go",
   "name": "lgo"
  },
  "language_info": {
   "file_extension": "",
   "mimetype": "",
   "name": "go",
   "version": ""
  }
 },
 "nbformat": 4,
 "nbformat_minor": 2
}
