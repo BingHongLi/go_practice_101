{
 "cells": [
  {
   "cell_type": "code",
   "execution_count": null,
   "metadata": {},
   "outputs": [],
   "source": [
    "/*\n",
    "\n",
    "go struct intro\n",
    "\n",
    "用來定義一個資料紀錄的結構樣貌，\n",
    "\n",
    "可假想成 OOP裡面的class之概念\n",
    "\n",
    "*/"
   ]
  },
  {
   "cell_type": "code",
   "execution_count": null,
   "metadata": {},
   "outputs": [],
   "source": [
    "import (\n",
    "    \"fmt\"\n",
    ")"
   ]
  },
  {
   "cell_type": "code",
   "execution_count": null,
   "metadata": {},
   "outputs": [],
   "source": [
    "/*\n",
    "\n",
    "type 結構名 struct {\n",
    "    \n",
    "    屬性名 屬性的型別\n",
    "\n",
    "}\n",
    "\n",
    "*/\n"
   ]
  },
  {
   "cell_type": "code",
   "execution_count": null,
   "metadata": {},
   "outputs": [],
   "source": [
    "/*\n",
    "\n",
    "為結構定義其專屬的方法\n",
    "\n",
    "func (實例名 struct名) 方法名 {\n",
    "\n",
    "方法體\n",
    "\n",
    "}\n",
    "\n",
    "*/"
   ]
  },
  {
   "cell_type": "code",
   "execution_count": null,
   "metadata": {},
   "outputs": [],
   "source": [
    "\n",
    "type Person struct {\n",
    "    name string\n",
    "    age  int\n",
    "}\n",
    "\n",
    "/*\n",
    "\n",
    "讀取struct資料\n",
    "\n",
    "請注意第二個方法，在struct前有加*， 為Pointer\n",
    "\n",
    "\n",
    "*/\n",
    "\n",
    "func (c Person) queryPersonAgeWithoutPointer() int {\n",
    "    return c.age\n",
    "}\n",
    "\n",
    "func (c *Person) queryPersonAge() int {\n",
    "    return c.age\n",
    "}\n",
    "\n",
    "/*\n",
    "\n",
    "修改struct資料\n",
    "\n",
    "請注意第二個方法，在struct前有加*， 為Pointer\n",
    "\n",
    "\n",
    "*/\n",
    "\n",
    "func (c Person) addAgeWithoutPointer() {\n",
    "    c.age = c.age + 1\n",
    "}\n",
    "\n",
    "func (c *Person) addAge() {\n",
    "    c.age = c.age + 1\n",
    "}"
   ]
  },
  {
   "cell_type": "code",
   "execution_count": null,
   "metadata": {},
   "outputs": [],
   "source": [
    "/*\n",
    "\n",
    "宣告實例的方式\n",
    "\n",
    "*/\n",
    "\n",
    "bob := Person{\"Bob\", 20}\n",
    "\n",
    "alice :=Person{name: \"Alice\", age: 30}\n",
    "\n",
    "fmt.Println(bob)\n",
    "fmt.Println(alice)"
   ]
  },
  {
   "cell_type": "code",
   "execution_count": null,
   "metadata": {},
   "outputs": [],
   "source": [
    "/*\n",
    "\n",
    "不一定要像類別一樣，把建構子填滿\n",
    "\n",
    "*/\n",
    "fmt.Println(Person{name: \"Fred\"})"
   ]
  },
  {
   "cell_type": "code",
   "execution_count": null,
   "metadata": {},
   "outputs": [],
   "source": [
    "/*\n",
    "\n",
    "創建一個 demoPerson 實例\n",
    "\n",
    "\n",
    "*/\n",
    "\n",
    "demoPerson := Person{name: \"Sean\", age: 50}"
   ]
  },
  {
   "cell_type": "code",
   "execution_count": null,
   "metadata": {},
   "outputs": [],
   "source": [
    "/*\n",
    "\n",
    "調用 不指定指標的 更新年紀之方法\n",
    "\n",
    "func (c Person) addAgeWithoutPointer() {\n",
    "    c.age = c.age + 1\n",
    "}\n",
    "\n",
    "*/\n",
    "demoPerson.addAgeWithoutPointer()\n",
    "fmt.Println(demoPerson.age)"
   ]
  },
  {
   "cell_type": "code",
   "execution_count": null,
   "metadata": {},
   "outputs": [],
   "source": [
    "/*\n",
    "\n",
    "調用 指定指標的 更新年紀之方法\n",
    "\n",
    "func (c *Person) addAge() {\n",
    "    c.age = c.age + 1\n",
    "}\n",
    "\n",
    "*/\n",
    "\n",
    "demoPerson.addAge()\n",
    "fmt.Println(demoPerson.age)"
   ]
  },
  {
   "cell_type": "code",
   "execution_count": null,
   "metadata": {},
   "outputs": [],
   "source": [
    "/*\n",
    "\n",
    "調用 不指定指標的 查詢年紀之方法\n",
    "\n",
    "func (c *Person) queryPersonAgeWithoutPointer() {\n",
    "    return c.age\n",
    "}\n",
    "\n",
    "*/\n",
    "fmt.Println(demoPerson.queryPersonAgeWithoutPointer())"
   ]
  },
  {
   "cell_type": "code",
   "execution_count": null,
   "metadata": {},
   "outputs": [],
   "source": [
    "/*\n",
    "\n",
    "調用 不指定指標的 查詢年紀之方法\n",
    "\n",
    "func (c *Person) queryPersonAge() {\n",
    "    return c.age\n",
    "}\n",
    "\n",
    "*/\n",
    "fmt.Println(demoPerson.queryPersonAge())"
   ]
  }
 ],
 "metadata": {
  "kernelspec": {
   "display_name": "Go (lgo)",
   "language": "go",
   "name": "lgo"
  },
  "language_info": {
   "file_extension": "",
   "mimetype": "",
   "name": "go",
   "version": ""
  }
 },
 "nbformat": 4,
 "nbformat_minor": 2
}
