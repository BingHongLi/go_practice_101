{
 "cells": [
  {
   "cell_type": "code",
   "execution_count": null,
   "metadata": {},
   "outputs": [],
   "source": [
    "/*\n",
    "錯誤處理\n",
    "    客製一個會拋出error的函數\n",
    "        撰寫變數，接收成功或失敗\n",
    "            判斷變數內容，決定是否拋出error\n",
    "\n",
    "*/"
   ]
  },
  {
   "cell_type": "code",
   "execution_count": 1,
   "metadata": {},
   "outputs": [],
   "source": [
    "import (\n",
    "    \"fmt\"\n",
    ")"
   ]
  },
  {
   "cell_type": "code",
   "execution_count": null,
   "metadata": {},
   "outputs": [],
   "source": [
    "/*\n",
    "客製化生成Error\n",
    "    若條件符合，則回傳 （結果值, nil）\n",
    "    若條件不符合，則回傳（結果值，錯誤）\n",
    "*/\n",
    "func genError(needMoreThan10 int) (string, error) {\n",
    "\tif needMoreThan10 > 10 {\n",
    "\t\treturn \"成功\", nil\n",
    "\t}else{\n",
    "\t\treturn \"失敗\", errors.New(\"變數小於10,出錯\")\n",
    "\t}\n",
    "\n",
    "}"
   ]
  },
  {
   "cell_type": "code",
   "execution_count": null,
   "metadata": {},
   "outputs": [],
   "source": [
    "/*\n",
    "範例 \n",
    "*/\n",
    "result, errResult := genError(5)\n",
    "if(errResult==nil){\n",
    "    fmt.Println(result)\n",
    "}else{\n",
    "    fmt.Println(result)\n",
    "}"
   ]
  }
 ],
 "metadata": {
  "kernelspec": {
   "display_name": "Go (lgo)",
   "language": "go",
   "name": "lgo"
  },
  "language_info": {
   "file_extension": "",
   "mimetype": "",
   "name": "go",
   "version": ""
  }
 },
 "nbformat": 4,
 "nbformat_minor": 2
}
